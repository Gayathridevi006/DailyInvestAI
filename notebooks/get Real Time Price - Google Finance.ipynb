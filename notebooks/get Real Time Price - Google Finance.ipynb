{
 "cells": [
  {
   "cell_type": "code",
   "execution_count": null,
   "id": "3dc4ebcd-47af-408c-8570-eb78d19879db",
   "metadata": {},
   "outputs": [],
   "source": [
    "\"\"\"Aim: To get the real time price data from the google finance\n",
    "\"\"\""
   ]
  },
  {
   "cell_type": "code",
   "execution_count": 1,
   "id": "aaa46983-dcb8-40d6-a0b9-c5392b33cb09",
   "metadata": {},
   "outputs": [],
   "source": [
    "# libraries:>\n",
    "import requests\n",
    "from bs4 import BeautifulSoup\n",
    "import time"
   ]
  },
  {
   "cell_type": "code",
   "execution_count": 3,
   "id": "c60048fd-da66-4ad5-b16d-fb0cb9901d83",
   "metadata": {},
   "outputs": [],
   "source": [
    "ticker = \"ZOMATO\"\n",
    "nse_url = \"https://www.google.com/finance/quote/{}:NSE\".format(ticker)"
   ]
  },
  {
   "cell_type": "code",
   "execution_count": 6,
   "id": "65d016da-e95f-40ab-9f2f-57f7e9a529fe",
   "metadata": {},
   "outputs": [],
   "source": [
    "response = requests.get(nse_url)\n",
    "soup = BeautifulSoup(response.text,'html.parser')"
   ]
  },
  {
   "cell_type": "code",
   "execution_count": 10,
   "id": "7f0e128e-50a7-4310-a18f-3c79c527fdef",
   "metadata": {},
   "outputs": [
    {
     "name": "stdout",
     "output_type": "stream",
     "text": [
      "Price of ZOMATO : 218.1\n"
     ]
    }
   ],
   "source": [
    "class_ = \"YMlKec fxKbKc\"\n",
    "price = float(soup.find(class_=class_).text.strip().replace(\"₹\",\"\").replace(\",\",\"\"))\n",
    "print(\"Price of {} : {}\".format(ticker,price))"
   ]
  },
  {
   "cell_type": "code",
   "execution_count": null,
   "id": "93790821-376e-4d10-b5da-fcc511c9dffb",
   "metadata": {},
   "outputs": [],
   "source": []
  }
 ],
 "metadata": {
  "kernelspec": {
   "display_name": "Python 3 (ipykernel)",
   "language": "python",
   "name": "python3"
  },
  "language_info": {
   "codemirror_mode": {
    "name": "ipython",
    "version": 3
   },
   "file_extension": ".py",
   "mimetype": "text/x-python",
   "name": "python",
   "nbconvert_exporter": "python",
   "pygments_lexer": "ipython3",
   "version": "3.10.14"
  }
 },
 "nbformat": 4,
 "nbformat_minor": 5
}
